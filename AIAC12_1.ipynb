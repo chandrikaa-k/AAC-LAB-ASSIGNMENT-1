{
  "nbformat": 4,
  "nbformat_minor": 0,
  "metadata": {
    "colab": {
      "provenance": [],
      "authorship_tag": "ABX9TyNWdpp6QhwHhwsrREvUXmcx",
      "include_colab_link": true
    },
    "kernelspec": {
      "name": "python3",
      "display_name": "Python 3"
    },
    "language_info": {
      "name": "python"
    }
  },
  "cells": [
    {
      "cell_type": "markdown",
      "metadata": {
        "id": "view-in-github",
        "colab_type": "text"
      },
      "source": [
        "<a href=\"https://colab.research.google.com/github/chandrikaa-k/AAC-LAB-ASSIGNMENT-1/blob/main/AIAC12_1.ipynb\" target=\"_parent\"><img src=\"https://colab.research.google.com/assets/colab-badge.svg\" alt=\"Open In Colab\"/></a>"
      ]
    },
    {
      "cell_type": "code",
      "execution_count": null,
      "metadata": {
        "id": "6xfchVAvKeew"
      },
      "outputs": [],
      "source": []
    },
    {
      "cell_type": "markdown",
      "source": [
        "Task Description #1 (Sorting – Merge Sort Implementation)\n",
        "• Task: Use AI to generate a Python program that implements the\n",
        "Merge Sort algorithm.\n",
        "• Instructions:\n",
        "o Prompt AI to create a function merge_sort(arr) that sorts a\n",
        "list in ascending order.\n",
        "o Ask AI to include time complexity and space complexity\n",
        "in the function docstring.\n",
        "o Verify the generated code with test cases\n",
        "\n",
        "prompt:generate a Python program that implements the\n",
        "Merge Sort algorithm.\n"
      ],
      "metadata": {
        "id": "op-dIWazKu3u"
      }
    },
    {
      "cell_type": "code",
      "source": [],
      "metadata": {
        "id": "EzPGYEpwK04h"
      },
      "execution_count": null,
      "outputs": []
    },
    {
      "cell_type": "code",
      "source": [
        "def merge_sort(arr):\n",
        "    \"\"\"\n",
        "    Implements the Merge Sort algorithm to sort a list in ascending order.\n",
        "\n",
        "    Time Complexity: O(n log n) - The algorithm divides the array into two halves\n",
        "                                 in each step (log n steps) and merging takes linear\n",
        "                                 time (n).\n",
        "    Space Complexity: O(n) - The algorithm requires additional space for the\n",
        "                             temporary arrays used during the merging process.\n",
        "\n",
        "    Args:\n",
        "        arr: The list to be sorted.\n",
        "\n",
        "    Returns:\n",
        "        The sorted list.\n",
        "    \"\"\"\n",
        "    if len(arr) <= 1:\n",
        "        return arr\n",
        "\n",
        "    mid = len(arr) // 2\n",
        "    left_half = arr[:mid]\n",
        "    right_half = arr[mid:]\n",
        "\n",
        "    left_half = merge_sort(left_half)\n",
        "    right_half = merge_sort(right_half)\n",
        "\n",
        "    return merge(left_half, right_half)\n",
        "\n",
        "def merge(left, right):\n",
        "    \"\"\"\n",
        "    Merges two sorted lists into a single sorted list.\n",
        "\n",
        "    Args:\n",
        "        left: The left sorted list.\n",
        "        right: The right sorted list.\n",
        "\n",
        "    Returns:\n",
        "        A single sorted list containing elements from both input lists.\n",
        "    \"\"\"\n",
        "    merged_list = []\n",
        "    left_index = 0\n",
        "    right_index = 0\n",
        "\n",
        "    while left_index < len(left) and right_index < len(right):\n",
        "        if left[left_index] < right[right_index]:\n",
        "            merged_list.append(left[left_index])\n",
        "            left_index += 1\n",
        "        else:\n",
        "            merged_list.append(right[right_index])\n",
        "            right_index += 1\n",
        "\n",
        "    while left_index < len(left):\n",
        "        merged_list.append(left[left_index])\n",
        "        left_index += 1\n",
        "\n",
        "    while right_index < len(right):\n",
        "        merged_list.append(right[right_index])\n",
        "        right_index += 1\n",
        "\n",
        "    return merged_list\n",
        "\n",
        "# Test cases\n",
        "test_cases = [\n",
        "    ([3, 6, 8, 10, 1, 2, 1], [1, 1, 2, 3, 6, 8, 10]),\n",
        "    ([5, 4, 3, 2, 1], [1, 2, 3, 4, 5]),\n",
        "    ([1], [1]),\n",
        "    ([], []),\n",
        "    ([1, 2, 3, 4, 5], [1, 2, 3, 4, 5]),\n",
        "    ([5, 1, 4, 2, 8], [1, 2, 4, 5, 8])\n",
        "]\n",
        "\n",
        "for input_arr, expected_output in test_cases:\n",
        "    actual_output = merge_sort(input_arr.copy()) # Use a copy to avoid modifying the original list\n",
        "    assert actual_output == expected_output, f\"Input: {input_arr}, Expected: {expected_output}, Got: {actual_output}\"\n",
        "    print(f\"Test case passed for input: {input_arr}\")"
      ],
      "metadata": {
        "colab": {
          "base_uri": "https://localhost:8080/"
        },
        "id": "Zfom0NP8LG7C",
        "outputId": "e532ebe7-9df3-432b-d1a5-13b9cc6ecd8f"
      },
      "execution_count": 1,
      "outputs": [
        {
          "output_type": "stream",
          "name": "stdout",
          "text": [
            "Test case passed for input: [3, 6, 8, 10, 1, 2, 1]\n",
            "Test case passed for input: [5, 4, 3, 2, 1]\n",
            "Test case passed for input: [1]\n",
            "Test case passed for input: []\n",
            "Test case passed for input: [1, 2, 3, 4, 5]\n",
            "Test case passed for input: [5, 1, 4, 2, 8]\n"
          ]
        }
      ]
    },
    {
      "cell_type": "markdown",
      "source": [
        "Task Description #2 (Searching – Binary Search with AI\n",
        "Optimization)\n",
        "• Task: Use AI to create a binary search function that finds a target\n",
        "element in a sorted list.\n",
        "• Instructions:\n",
        "o Prompt AI to create a function binary_search(arr, target)\n",
        "returning the index of the target or -1 if not found.\n",
        "o Include docstrings explaining best, average, and worst-\n",
        "case complexities.\n",
        "o Test with various inputs\n",
        "\n",
        "prompt:  create a binary search function that finds a target\n",
        "element in a sorted list."
      ],
      "metadata": {
        "id": "Oy32Xj-QLXa1"
      }
    },
    {
      "cell_type": "code",
      "source": [
        "def binary_search(arr, target):\n",
        "    \"\"\"\n",
        "    Finds the index of a target element in a sorted list using binary search.\n",
        "\n",
        "    Args:\n",
        "        arr: The sorted list to search within.\n",
        "        target: The element to search for.\n",
        "\n",
        "    Returns:\n",
        "        The index of the target element if found, otherwise -1.\n",
        "\n",
        "    Complexity:\n",
        "        Best Case: O(1) - When the target element is the middle element in the first comparison.\n",
        "        Average Case: O(log n) - The search space is halved in each step.\n",
        "        Worst Case: O(log n) - When the target element is at the beginning or end of the list,\n",
        "                                or not present in the list.\n",
        "    \"\"\"\n",
        "    left, right = 0, len(arr) - 1\n",
        "\n",
        "    while left <= right:\n",
        "        mid = (left + right) // 2\n",
        "        if arr[mid] == target:\n",
        "            return mid\n",
        "        elif arr[mid] < target:\n",
        "            left = mid + 1\n",
        "        else:\n",
        "            right = mid - 1\n",
        "\n",
        "    return -1\n",
        "\n",
        "# Test cases\n",
        "test_cases = [\n",
        "    ([1, 2, 3, 4, 5, 6, 7, 8, 9, 10], 5, 4),  # Target in the middle\n",
        "    ([1, 2, 3, 4, 5, 6, 7, 8, 9, 10], 1, 0),  # Target at the beginning\n",
        "    ([1, 2, 3, 4, 5, 6, 7, 8, 9, 10], 10, 9), # Target at the end\n",
        "    ([1, 2, 3, 4, 5, 6, 7, 8, 9, 10], 0, -1),  # Target not in the list (smaller)\n",
        "    ([1, 2, 3, 4, 5, 6, 7, 8, 9, 10], 11, -1), # Target not in the list (larger)\n",
        "    ([1], 1, 0), # Single element list (target present)\n",
        "    ([1], 2, -1), # Single element list (target not present)\n",
        "    ([], 5, -1) # Empty list\n",
        "]\n",
        "\n",
        "for arr, target, expected_output in test_cases:\n",
        "    actual_output = binary_search(arr, target)\n",
        "    assert actual_output == expected_output, f\"Array: {arr}, Target: {target}, Expected: {expected_output}, Got: {actual_output}\"\n",
        "    print(f\"Test case passed for array: {arr}, target: {target}\")"
      ],
      "metadata": {
        "colab": {
          "base_uri": "https://localhost:8080/"
        },
        "id": "7a4CZ-ycLcUm",
        "outputId": "8c1ad18b-6abe-4a3d-e317-c5d12710cbc5"
      },
      "execution_count": 2,
      "outputs": [
        {
          "output_type": "stream",
          "name": "stdout",
          "text": [
            "Test case passed for array: [1, 2, 3, 4, 5, 6, 7, 8, 9, 10], target: 5\n",
            "Test case passed for array: [1, 2, 3, 4, 5, 6, 7, 8, 9, 10], target: 1\n",
            "Test case passed for array: [1, 2, 3, 4, 5, 6, 7, 8, 9, 10], target: 10\n",
            "Test case passed for array: [1, 2, 3, 4, 5, 6, 7, 8, 9, 10], target: 0\n",
            "Test case passed for array: [1, 2, 3, 4, 5, 6, 7, 8, 9, 10], target: 11\n",
            "Test case passed for array: [1], target: 1\n",
            "Test case passed for array: [1], target: 2\n",
            "Test case passed for array: [], target: 5\n"
          ]
        }
      ]
    },
    {
      "cell_type": "markdown",
      "source": [
        "Task Description #3 (Real-Time Application – Inventory\n",
        "Management System)\n",
        "• Scenario: A retail store’s inventory system contains thousands of\n",
        "products, each with attributes like product ID, name, price, and\n",
        "stock quantity. Store staff need to:\n",
        "1. Quickly search for a product by ID or name.\n",
        "2. Sort products by price or quantity for stock analysis.\n",
        "• Task:\n",
        "o Use AI to suggest the most efficient search and sort\n",
        "\n",
        "PROMPT: write a code to do the task\n",
        " A retail store’s inventory system contains thousands of\n",
        "products, each with attributes like product ID, name, price, and\n",
        "stock quantity. Store staff need to:\n",
        "1. Quickly search for a product by ID or name.\n",
        "2. Sort products by price or quantity for stock analysis.\n",
        "• Task:\n",
        "o Use AI to suggest the most efficient search and sort\n",
        "\n"
      ],
      "metadata": {
        "id": "-nJUmChdLnf1"
      }
    },
    {
      "cell_type": "markdown",
      "metadata": {
        "id": "324f5a2b"
      },
      "source": [
        "# Task\n",
        "Suggest the most efficient search and sort algorithms for a retail store inventory system with thousands of products, considering the need to quickly search by ID or name and sort by price or quantity."
      ]
    },
    {
      "cell_type": "markdown",
      "metadata": {
        "id": "a4fa8af4"
      },
      "source": [
        "## Data structure selection\n",
        "\n",
        "### Subtask:\n",
        "Choose a suitable data structure to represent the inventory, considering the need for both efficient searching and sorting.\n"
      ]
    },
    {
      "cell_type": "markdown",
      "metadata": {
        "id": "467b5019"
      },
      "source": [
        "**Reasoning**:\n",
        "I need to choose a data structure that is suitable for both quick searching and efficient sorting for a large dataset. A list of dictionaries or custom objects would allow for easy storage of product attributes. While searching a list can be slow, I can use a dictionary for quick lookups by ID. For sorting, Python's built-in sort is efficient. I will use a list of dictionaries as a simple yet effective approach for this scenario.\n",
        "\n"
      ]
    },
    {
      "cell_type": "code",
      "metadata": {
        "id": "634ad49c"
      },
      "source": [
        "# Define a list of dictionaries to represent the inventory\n",
        "inventory = [\n",
        "    {\"product_id\": \"A101\", \"name\": \"Laptop\", \"price\": 1200.00, \"stock_quantity\": 50},\n",
        "    {\"product_id\": \"B205\", \"name\": \"Mouse\", \"price\": 25.50, \"stock_quantity\": 200},\n",
        "    {\"product_id\": \"C310\", \"name\": \"Keyboard\", \"price\": 75.00, \"stock_quantity\": 150},\n",
        "    {\"product_id\": \"D400\", \"name\": \"Monitor\", \"price\": 300.00, \"stock_quantity\": 30},\n",
        "    {\"product_id\": \"A102\", \"name\": \"Tablet\", \"price\": 400.00, \"stock_quantity\": 80},\n",
        "]\n",
        "\n",
        "# Rationale:\n",
        "# A list of dictionaries is chosen because:\n",
        "# - Each dictionary can represent a product with its attributes (ID, name, price, quantity).\n",
        "# - It's flexible for storing varying product information.\n",
        "# - Python's built-in list sorting is efficient for sorting by price or quantity.\n",
        "# - For searching by ID, while linear search on the list is O(n), we can potentially use a separate dictionary mapping IDs to product indices or objects for O(1) average time complexity if frequent ID lookups are needed.\n",
        "# - Searching by name might still require iterating through the list, but for occasional name searches, this might be acceptable. For very frequent name searches on a large dataset, a more advanced data structure or indexing strategy might be considered, but for the given constraints, a list of dictionaries provides a good balance."
      ],
      "execution_count": 3,
      "outputs": []
    },
    {
      "cell_type": "markdown",
      "metadata": {
        "id": "e4d68c7c"
      },
      "source": [
        "## Data generation\n",
        "\n",
        "### Subtask:\n",
        "Create a sample dataset of products with attributes like product ID, name, price, and stock quantity.\n"
      ]
    },
    {
      "cell_type": "markdown",
      "metadata": {
        "id": "e0bb76e4"
      },
      "source": [
        "**Reasoning**:\n",
        "Generate a sample dataset of products as a list of dictionaries to represent the inventory.\n",
        "\n"
      ]
    },
    {
      "cell_type": "code",
      "metadata": {
        "colab": {
          "base_uri": "https://localhost:8080/",
          "height": 572
        },
        "id": "4a106da5",
        "outputId": "0b41db29-5aa2-4d82-e272-1420a6f8382f"
      },
      "source": [
        "# Generate a list of dictionaries, where each dictionary represents a product.\n",
        "# Each product dictionary should have keys for \"product_id\", \"name\", \"price\", and \"stock_quantity\".\n",
        "# Populate the list with a reasonable number of sample products (e.g., 5-10) with diverse values for each attribute.\n",
        "# Store this list in a variable named inventory.\n",
        "inventory = [\n",
        "    {\"product_id\": \"P001\", \"name\": \"Smartphone\", \"price\": 699.99, \"stock_quantity\": 150},\n",
        "    {\"product_id\": \"P002\", \"name\": \"Wireless Earbuds\", \"price\": 99.50, \"stock_quantity\": 300},\n",
        "    {\"product_id\": \"P003\", \"name\": \"Smart Watch\", \"price\": 249.00, \"stock_quantity\": 100},\n",
        "    {\"product_id\": \"P004\", \"name\": \"Laptop\", \"price\": 1199.00, \"stock_quantity\": 75},\n",
        "    {\"product_id\": \"P005\", \"name\": \"Bluetooth Speaker\", \"price\": 55.75, \"stock_quantity\": 250},\n",
        "    {\"product_id\": \"P006\", \"name\": \"Gaming Mouse\", \"price\": 45.00, \"stock_quantity\": 180},\n",
        "    {\"product_id\": \"P007\", \"name\": \"Webcam\", \"price\": 70.00, \"stock_quantity\": 120},\n",
        "    {\"product_id\": \"P008\", \"name\": \"External Hard Drive\", \"price\": 89.99, \"stock_quantity\": 200}\n",
        "]\n",
        "\n",
        "# Display the generated inventory\n",
        "display(inventory)"
      ],
      "execution_count": 4,
      "outputs": [
        {
          "output_type": "display_data",
          "data": {
            "text/plain": [
              "[{'product_id': 'P001',\n",
              "  'name': 'Smartphone',\n",
              "  'price': 699.99,\n",
              "  'stock_quantity': 150},\n",
              " {'product_id': 'P002',\n",
              "  'name': 'Wireless Earbuds',\n",
              "  'price': 99.5,\n",
              "  'stock_quantity': 300},\n",
              " {'product_id': 'P003',\n",
              "  'name': 'Smart Watch',\n",
              "  'price': 249.0,\n",
              "  'stock_quantity': 100},\n",
              " {'product_id': 'P004',\n",
              "  'name': 'Laptop',\n",
              "  'price': 1199.0,\n",
              "  'stock_quantity': 75},\n",
              " {'product_id': 'P005',\n",
              "  'name': 'Bluetooth Speaker',\n",
              "  'price': 55.75,\n",
              "  'stock_quantity': 250},\n",
              " {'product_id': 'P006',\n",
              "  'name': 'Gaming Mouse',\n",
              "  'price': 45.0,\n",
              "  'stock_quantity': 180},\n",
              " {'product_id': 'P007',\n",
              "  'name': 'Webcam',\n",
              "  'price': 70.0,\n",
              "  'stock_quantity': 120},\n",
              " {'product_id': 'P008',\n",
              "  'name': 'External Hard Drive',\n",
              "  'price': 89.99,\n",
              "  'stock_quantity': 200}]"
            ]
          },
          "metadata": {}
        }
      ]
    },
    {
      "cell_type": "markdown",
      "metadata": {
        "id": "e9734207"
      },
      "source": [
        "## Search implementation\n",
        "\n",
        "### Subtask:\n",
        "Implement efficient search functions for both product ID and name.\n"
      ]
    },
    {
      "cell_type": "markdown",
      "metadata": {
        "id": "de46d2eb"
      },
      "source": [
        "**Reasoning**:\n",
        "Implement the search functions `search_by_id` and `search_by_name` as described in the instructions.\n",
        "\n"
      ]
    },
    {
      "cell_type": "code",
      "metadata": {
        "colab": {
          "base_uri": "https://localhost:8080/",
          "height": 364
        },
        "id": "b26f0c51",
        "outputId": "4b90e0b8-bc31-4466-be36-c0955e1a6829"
      },
      "source": [
        "def search_by_id(inventory, product_id):\n",
        "    \"\"\"\n",
        "    Searches for a product in the inventory by its product ID.\n",
        "\n",
        "    Args:\n",
        "        inventory: The list of product dictionaries.\n",
        "        product_id: The ID of the product to search for.\n",
        "\n",
        "    Returns:\n",
        "        The product dictionary if found, otherwise None.\n",
        "    \"\"\"\n",
        "    for product in inventory:\n",
        "        if product.get(\"product_id\") == product_id:\n",
        "            return product\n",
        "    return None\n",
        "\n",
        "def search_by_name(inventory, name):\n",
        "    \"\"\"\n",
        "    Searches for products in the inventory by name (case-insensitive).\n",
        "\n",
        "    Args:\n",
        "        inventory: The list of product dictionaries.\n",
        "        name: The name of the product to search for.\n",
        "\n",
        "    Returns:\n",
        "        A list of product dictionaries that match the name, or an empty list if none are found.\n",
        "    \"\"\"\n",
        "    matching_products = []\n",
        "    search_name_lower = name.lower()\n",
        "    for product in inventory:\n",
        "        if product.get(\"name\", \"\").lower() == search_name_lower:\n",
        "            matching_products.append(product)\n",
        "    return matching_products\n",
        "\n",
        "# Test the search functions\n",
        "print(\"Searching for product with ID P003:\")\n",
        "display(search_by_id(inventory, \"P003\"))\n",
        "\n",
        "print(\"\\nSearching for product with ID non-existent:\")\n",
        "display(search_by_id(inventory, \"P999\"))\n",
        "\n",
        "print(\"\\nSearching for products with name 'Laptop':\")\n",
        "display(search_by_name(inventory, \"Laptop\"))\n",
        "\n",
        "print(\"\\nSearching for products with name 'mouse':\")\n",
        "display(search_by_name(inventory, \"mouse\"))\n",
        "\n",
        "print(\"\\nSearching for products with name 'non-existent':\")\n",
        "display(search_by_name(inventory, \"non-existent\"))"
      ],
      "execution_count": 5,
      "outputs": [
        {
          "output_type": "stream",
          "name": "stdout",
          "text": [
            "Searching for product with ID P003:\n"
          ]
        },
        {
          "output_type": "display_data",
          "data": {
            "text/plain": [
              "{'product_id': 'P003',\n",
              " 'name': 'Smart Watch',\n",
              " 'price': 249.0,\n",
              " 'stock_quantity': 100}"
            ]
          },
          "metadata": {}
        },
        {
          "output_type": "stream",
          "name": "stdout",
          "text": [
            "\n",
            "Searching for product with ID non-existent:\n"
          ]
        },
        {
          "output_type": "display_data",
          "data": {
            "text/plain": [
              "None"
            ]
          },
          "metadata": {}
        },
        {
          "output_type": "stream",
          "name": "stdout",
          "text": [
            "\n",
            "Searching for products with name 'Laptop':\n"
          ]
        },
        {
          "output_type": "display_data",
          "data": {
            "text/plain": [
              "[{'product_id': 'P004',\n",
              "  'name': 'Laptop',\n",
              "  'price': 1199.0,\n",
              "  'stock_quantity': 75}]"
            ]
          },
          "metadata": {}
        },
        {
          "output_type": "stream",
          "name": "stdout",
          "text": [
            "\n",
            "Searching for products with name 'mouse':\n"
          ]
        },
        {
          "output_type": "display_data",
          "data": {
            "text/plain": [
              "[]"
            ]
          },
          "metadata": {}
        },
        {
          "output_type": "stream",
          "name": "stdout",
          "text": [
            "\n",
            "Searching for products with name 'non-existent':\n"
          ]
        },
        {
          "output_type": "display_data",
          "data": {
            "text/plain": [
              "[]"
            ]
          },
          "metadata": {}
        }
      ]
    },
    {
      "cell_type": "markdown",
      "metadata": {
        "id": "164ef129"
      },
      "source": [
        "## Sort implementation\n",
        "\n",
        "### Subtask:\n",
        "Implement efficient sorting functions for price and stock quantity.\n"
      ]
    },
    {
      "cell_type": "markdown",
      "metadata": {
        "id": "51f14cb4"
      },
      "source": [
        "**Reasoning**:\n",
        "Implement the sorting functions as requested in the instructions and then call them to display the sorted inventory.\n",
        "\n"
      ]
    },
    {
      "cell_type": "code",
      "metadata": {
        "colab": {
          "base_uri": "https://localhost:8080/",
          "height": 1000
        },
        "id": "02d96d1a",
        "outputId": "106d9659-76a6-469c-cd3d-92fcb96a6c72"
      },
      "source": [
        "def sort_by_price(inventory):\n",
        "    \"\"\"\n",
        "    Sorts the inventory list by price in ascending order.\n",
        "\n",
        "    Args:\n",
        "        inventory: The list of product dictionaries.\n",
        "\n",
        "    Returns:\n",
        "        A new list containing the products sorted by price.\n",
        "    \"\"\"\n",
        "    return sorted(inventory, key=lambda x: x[\"price\"])\n",
        "\n",
        "def sort_by_quantity(inventory):\n",
        "    \"\"\"\n",
        "    Sorts the inventory list by stock quantity in ascending order.\n",
        "\n",
        "    Args:\n",
        "        inventory: The list of product dictionaries.\n",
        "\n",
        "    Returns:\n",
        "        A new list containing the products sorted by stock quantity.\n",
        "    \"\"\"\n",
        "    return sorted(inventory, key=lambda x: x[\"stock_quantity\"])\n",
        "\n",
        "# Call the sorting functions and display the results\n",
        "print(\"Inventory sorted by price:\")\n",
        "display(sort_by_price(inventory))\n",
        "\n",
        "print(\"\\nInventory sorted by stock quantity:\")\n",
        "display(sort_by_quantity(inventory))"
      ],
      "execution_count": 6,
      "outputs": [
        {
          "output_type": "stream",
          "name": "stdout",
          "text": [
            "Inventory sorted by price:\n"
          ]
        },
        {
          "output_type": "display_data",
          "data": {
            "text/plain": [
              "[{'product_id': 'P006',\n",
              "  'name': 'Gaming Mouse',\n",
              "  'price': 45.0,\n",
              "  'stock_quantity': 180},\n",
              " {'product_id': 'P005',\n",
              "  'name': 'Bluetooth Speaker',\n",
              "  'price': 55.75,\n",
              "  'stock_quantity': 250},\n",
              " {'product_id': 'P007',\n",
              "  'name': 'Webcam',\n",
              "  'price': 70.0,\n",
              "  'stock_quantity': 120},\n",
              " {'product_id': 'P008',\n",
              "  'name': 'External Hard Drive',\n",
              "  'price': 89.99,\n",
              "  'stock_quantity': 200},\n",
              " {'product_id': 'P002',\n",
              "  'name': 'Wireless Earbuds',\n",
              "  'price': 99.5,\n",
              "  'stock_quantity': 300},\n",
              " {'product_id': 'P003',\n",
              "  'name': 'Smart Watch',\n",
              "  'price': 249.0,\n",
              "  'stock_quantity': 100},\n",
              " {'product_id': 'P001',\n",
              "  'name': 'Smartphone',\n",
              "  'price': 699.99,\n",
              "  'stock_quantity': 150},\n",
              " {'product_id': 'P004',\n",
              "  'name': 'Laptop',\n",
              "  'price': 1199.0,\n",
              "  'stock_quantity': 75}]"
            ]
          },
          "metadata": {}
        },
        {
          "output_type": "stream",
          "name": "stdout",
          "text": [
            "\n",
            "Inventory sorted by stock quantity:\n"
          ]
        },
        {
          "output_type": "display_data",
          "data": {
            "text/plain": [
              "[{'product_id': 'P004',\n",
              "  'name': 'Laptop',\n",
              "  'price': 1199.0,\n",
              "  'stock_quantity': 75},\n",
              " {'product_id': 'P003',\n",
              "  'name': 'Smart Watch',\n",
              "  'price': 249.0,\n",
              "  'stock_quantity': 100},\n",
              " {'product_id': 'P007',\n",
              "  'name': 'Webcam',\n",
              "  'price': 70.0,\n",
              "  'stock_quantity': 120},\n",
              " {'product_id': 'P001',\n",
              "  'name': 'Smartphone',\n",
              "  'price': 699.99,\n",
              "  'stock_quantity': 150},\n",
              " {'product_id': 'P006',\n",
              "  'name': 'Gaming Mouse',\n",
              "  'price': 45.0,\n",
              "  'stock_quantity': 180},\n",
              " {'product_id': 'P008',\n",
              "  'name': 'External Hard Drive',\n",
              "  'price': 89.99,\n",
              "  'stock_quantity': 200},\n",
              " {'product_id': 'P005',\n",
              "  'name': 'Bluetooth Speaker',\n",
              "  'price': 55.75,\n",
              "  'stock_quantity': 250},\n",
              " {'product_id': 'P002',\n",
              "  'name': 'Wireless Earbuds',\n",
              "  'price': 99.5,\n",
              "  'stock_quantity': 300}]"
            ]
          },
          "metadata": {}
        }
      ]
    },
    {
      "cell_type": "markdown",
      "metadata": {
        "id": "16230fe7"
      },
      "source": [
        "## Demonstration\n",
        "\n",
        "### Subtask:\n",
        "Provide examples of how to use the search and sort functions with the sample data.\n"
      ]
    },
    {
      "cell_type": "markdown",
      "metadata": {
        "id": "2cf91887"
      },
      "source": [
        "**Reasoning**:\n",
        "Provide examples of how to use the search and sort functions with the sample data by calling the functions and printing the results as requested in the instructions.\n",
        "\n"
      ]
    },
    {
      "cell_type": "code",
      "metadata": {
        "colab": {
          "base_uri": "https://localhost:8080/",
          "height": 1000
        },
        "id": "e078e9e7",
        "outputId": "d8cbcc80-90d7-4395-d260-41daa3b2c621"
      },
      "source": [
        "# 1. Call the search_by_id function with an existing product ID and print the result.\n",
        "print(\"Searching for product with ID 'P004':\")\n",
        "found_product_by_id = search_by_id(inventory, \"P004\")\n",
        "display(found_product_by_id)\n",
        "\n",
        "# 2. Call the search_by_name function with an existing product name and print the result.\n",
        "print(\"\\nSearching for product with name 'Smart Watch':\")\n",
        "found_products_by_name = search_by_name(inventory, \"Smart Watch\")\n",
        "display(found_products_by_name)\n",
        "\n",
        "# 3. Call the sort_by_price function with the inventory list and print the sorted list.\n",
        "print(\"\\nInventory sorted by price:\")\n",
        "inventory_sorted_by_price = sort_by_price(inventory)\n",
        "display(inventory_sorted_by_price)\n",
        "\n",
        "# 4. Call the sort_by_quantity function with the inventory list and print the sorted list.\n",
        "print(\"\\nInventory sorted by quantity:\")\n",
        "inventory_sorted_by_quantity = sort_by_quantity(inventory)\n",
        "display(inventory_sorted_by_quantity)"
      ],
      "execution_count": 7,
      "outputs": [
        {
          "output_type": "stream",
          "name": "stdout",
          "text": [
            "Searching for product with ID 'P004':\n"
          ]
        },
        {
          "output_type": "display_data",
          "data": {
            "text/plain": [
              "{'product_id': 'P004', 'name': 'Laptop', 'price': 1199.0, 'stock_quantity': 75}"
            ]
          },
          "metadata": {}
        },
        {
          "output_type": "stream",
          "name": "stdout",
          "text": [
            "\n",
            "Searching for product with name 'Smart Watch':\n"
          ]
        },
        {
          "output_type": "display_data",
          "data": {
            "text/plain": [
              "[{'product_id': 'P003',\n",
              "  'name': 'Smart Watch',\n",
              "  'price': 249.0,\n",
              "  'stock_quantity': 100}]"
            ]
          },
          "metadata": {}
        },
        {
          "output_type": "stream",
          "name": "stdout",
          "text": [
            "\n",
            "Inventory sorted by price:\n"
          ]
        },
        {
          "output_type": "display_data",
          "data": {
            "text/plain": [
              "[{'product_id': 'P006',\n",
              "  'name': 'Gaming Mouse',\n",
              "  'price': 45.0,\n",
              "  'stock_quantity': 180},\n",
              " {'product_id': 'P005',\n",
              "  'name': 'Bluetooth Speaker',\n",
              "  'price': 55.75,\n",
              "  'stock_quantity': 250},\n",
              " {'product_id': 'P007',\n",
              "  'name': 'Webcam',\n",
              "  'price': 70.0,\n",
              "  'stock_quantity': 120},\n",
              " {'product_id': 'P008',\n",
              "  'name': 'External Hard Drive',\n",
              "  'price': 89.99,\n",
              "  'stock_quantity': 200},\n",
              " {'product_id': 'P002',\n",
              "  'name': 'Wireless Earbuds',\n",
              "  'price': 99.5,\n",
              "  'stock_quantity': 300},\n",
              " {'product_id': 'P003',\n",
              "  'name': 'Smart Watch',\n",
              "  'price': 249.0,\n",
              "  'stock_quantity': 100},\n",
              " {'product_id': 'P001',\n",
              "  'name': 'Smartphone',\n",
              "  'price': 699.99,\n",
              "  'stock_quantity': 150},\n",
              " {'product_id': 'P004',\n",
              "  'name': 'Laptop',\n",
              "  'price': 1199.0,\n",
              "  'stock_quantity': 75}]"
            ]
          },
          "metadata": {}
        },
        {
          "output_type": "stream",
          "name": "stdout",
          "text": [
            "\n",
            "Inventory sorted by quantity:\n"
          ]
        },
        {
          "output_type": "display_data",
          "data": {
            "text/plain": [
              "[{'product_id': 'P004',\n",
              "  'name': 'Laptop',\n",
              "  'price': 1199.0,\n",
              "  'stock_quantity': 75},\n",
              " {'product_id': 'P003',\n",
              "  'name': 'Smart Watch',\n",
              "  'price': 249.0,\n",
              "  'stock_quantity': 100},\n",
              " {'product_id': 'P007',\n",
              "  'name': 'Webcam',\n",
              "  'price': 70.0,\n",
              "  'stock_quantity': 120},\n",
              " {'product_id': 'P001',\n",
              "  'name': 'Smartphone',\n",
              "  'price': 699.99,\n",
              "  'stock_quantity': 150},\n",
              " {'product_id': 'P006',\n",
              "  'name': 'Gaming Mouse',\n",
              "  'price': 45.0,\n",
              "  'stock_quantity': 180},\n",
              " {'product_id': 'P008',\n",
              "  'name': 'External Hard Drive',\n",
              "  'price': 89.99,\n",
              "  'stock_quantity': 200},\n",
              " {'product_id': 'P005',\n",
              "  'name': 'Bluetooth Speaker',\n",
              "  'price': 55.75,\n",
              "  'stock_quantity': 250},\n",
              " {'product_id': 'P002',\n",
              "  'name': 'Wireless Earbuds',\n",
              "  'price': 99.5,\n",
              "  'stock_quantity': 300}]"
            ]
          },
          "metadata": {}
        }
      ]
    },
    {
      "cell_type": "markdown",
      "metadata": {
        "id": "82525707"
      },
      "source": [
        "## Explain efficiency\n",
        "\n",
        "### Subtask:\n",
        "Discuss the time complexity of the chosen search and sort methods in the context of the inventory system.\n"
      ]
    },
    {
      "cell_type": "markdown",
      "metadata": {
        "id": "aa2c7c4d"
      },
      "source": [
        "**Reasoning**:\n",
        "Explain the time complexity of the search and sort functions and their relevance to the inventory system.\n",
        "\n"
      ]
    },
    {
      "cell_type": "code",
      "metadata": {
        "id": "42cd5297"
      },
      "source": [
        "# Explanation of Time Complexity:\n",
        "\n",
        "# 1. Time complexity of search_by_id(inventory, product_id):\n",
        "# The function iterates through the list of products one by one until it finds a matching product_id\n",
        "# or reaches the end of the list. In the worst case, it might need to check every product.\n",
        "# Therefore, the time complexity of search_by_id using a list is O(n), where n is the number of products in the inventory.\n",
        "# While this is acceptable for smaller inventories, for thousands of products, O(n) search can become slow.\n",
        "# As noted earlier, using a dictionary keyed by product_id could achieve O(1) on average for ID lookups.\n",
        "\n",
        "# 2. Time complexity of search_by_name(inventory, name):\n",
        "# Similar to search_by_id, this function also iterates through the entire list of products.\n",
        "# For each product, it performs a case-insensitive comparison of the name.\n",
        "# In the worst case (no match or the match is the last element), it checks every product.\n",
        "# Therefore, the time complexity of search_by_name using a list is also O(n), where n is the number of products.\n",
        "# This is generally less efficient for frequent name searches on large datasets compared to indexed searches.\n",
        "\n",
        "# 3. Time complexity of sort_by_price(inventory) and sort_by_quantity(inventory):\n",
        "# These functions use Python's built-in sorted() function.\n",
        "# Python's sorted() uses the Timsort algorithm, which is a hybrid stable sorting algorithm.\n",
        "# The time complexity of Timsort is O(n log n) on average and in the worst case, where n is the number of products.\n",
        "# This is an efficient sorting algorithm for a list of thousands of products.\n",
        "\n",
        "# Relevance to a Retail Store Inventory System:\n",
        "# - For quick searches by product ID or name, an O(n) complexity (as implemented with a simple list iteration) might be too slow for a system with thousands of products, leading to delays for staff. A better approach for frequent ID searches would be to use a dictionary lookup (O(1) average). For name searches, if speed is critical, more advanced indexing or search structures might be needed.\n",
        "# - For sorting by price or quantity, the O(n log n) complexity of Python's built-in sorted() is generally very efficient and suitable for analyzing stock, even with thousands of products. Sorting operations are less frequent than search operations in typical inventory lookups, making O(n log n) acceptable for this task."
      ],
      "execution_count": 8,
      "outputs": []
    },
    {
      "cell_type": "markdown",
      "metadata": {
        "id": "4ad6c03e"
      },
      "source": [
        "## Summary:\n",
        "\n",
        "### Data Analysis Key Findings\n",
        "\n",
        "*   A list of dictionaries was chosen as the data structure for the inventory, balancing flexibility and leveraging Python's built-in sorting efficiency.\n",
        "*   Search functions were implemented: `search_by_id` returns a single product or `None`, and `search_by_name` returns a list of matching products (case-insensitive).\n",
        "*   Sort functions were implemented: `sort_by_price` and `sort_by_quantity` return new lists sorted by the specified attributes in ascending order using Python's efficient built-in `sorted()` function.\n",
        "*   The time complexity for searching by ID or name using a simple list iteration is O(n), where 'n' is the number of products.\n",
        "*   The time complexity for sorting by price or quantity using Python's `sorted()` function is O(n log n).\n",
        "\n",
        "### Insights or Next Steps\n",
        "\n",
        "*   For an inventory with thousands of products, the O(n) time complexity for searching by ID or name using simple list iteration can be inefficient. Consider using a dictionary with product ID as keys for O(1) average time complexity ID lookups.\n",
        "*   While O(n) name search might be acceptable for occasional use, frequent name searches on large datasets could benefit from more advanced indexing strategies or data structures.\n"
      ]
    }
  ]
}